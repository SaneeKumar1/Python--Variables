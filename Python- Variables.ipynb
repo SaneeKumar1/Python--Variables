{
 "cells": [
  {
   "cell_type": "markdown",
   "id": "efadd855-f9ce-4b73-afef-6e30d87b4089",
   "metadata": {},
   "source": [
    "Q1. Write all the conventions being followed while declaring a variable."
   ]
  },
  {
   "cell_type": "markdown",
   "id": "2844066b-bb3a-45c3-82b2-4f5d23740437",
   "metadata": {},
   "source": [
    "Ans:- When declaring a variable in Python, the following conventions should be followed:\n",
    "\n",
    "1. Use lowercase letters to name variables, and separate words using underscores. For example, my_variable_name.\n",
    "\n",
    "2. Avoid using reserved keywords as variable names. For example, if, else, for, while, and, or, not, in, is, True, False, None, import, as, from, def, class, etc.\n",
    "\n",
    "3. Use descriptive variable names that reflect the purpose or content of the variable. For example, num_students, average_grade, is_valid_input, etc.\n",
    "\n",
    "4. Do not start variable names with a number or special character.\n",
    "\n",
    "5. Use meaningful abbreviations or acronyms that are commonly understood. For example, num for number, max for maximum, min for minimum, temp for temperature, etc.\n",
    "\n",
    "6. For constant variables, use uppercase letters and separate words using underscores. For example, MAX_NUM, PI, GRAVITY, etc."
   ]
  },
  {
   "cell_type": "markdown",
   "id": "0c49e093-9409-4380-8822-415a24033d24",
   "metadata": {},
   "source": [
    "Q2. What will happen if we declare a restricted keyword as a variable?"
   ]
  },
  {
   "cell_type": "markdown",
   "id": "6d9fe8ca-acab-4a42-a476-c419b72068f0",
   "metadata": {},
   "source": [
    "Ans:- If we try to declare a restricted keyword as a variable in Python, we will get a syntax error. Restricted keywords are reserved for specific purposes and cannot be used as variable names.\n",
    "\n",
    "For example"
   ]
  },
  {
   "cell_type": "code",
   "execution_count": 1,
   "id": "fdb662c5-8bda-46fa-93b1-d1debb81135e",
   "metadata": {},
   "outputs": [
    {
     "ename": "SyntaxError",
     "evalue": "cannot assign to True (922659677.py, line 1)",
     "output_type": "error",
     "traceback": [
      "\u001b[0;36m  Cell \u001b[0;32mIn[1], line 1\u001b[0;36m\u001b[0m\n\u001b[0;31m    True = 5\u001b[0m\n\u001b[0m    ^\u001b[0m\n\u001b[0;31mSyntaxError\u001b[0m\u001b[0;31m:\u001b[0m cannot assign to True\n"
     ]
    }
   ],
   "source": [
    "True = 5"
   ]
  },
  {
   "cell_type": "markdown",
   "id": "9e7d87c4-39f1-4f47-ab83-e67f347aa688",
   "metadata": {},
   "source": [
    "Q3. Can we actually declare a string as a variable name?"
   ]
  },
  {
   "cell_type": "markdown",
   "id": "cb66747b-12e0-47ec-9e71-d41c150ff7c9",
   "metadata": {},
   "source": [
    "Ans:- Yes, we can declare a string as a variable name in Python, but it's generally not recommended. In Python, variable names must start with a letter or an underscore, and they can only contain letters, numbers, and underscores. \n",
    "\n",
    "Here's an example of how to declare a string as a variable name in Python:"
   ]
  },
  {
   "cell_type": "code",
   "execution_count": 2,
   "id": "8d7f4004-6a99-4f30-885a-f6d03273c914",
   "metadata": {},
   "outputs": [
    {
     "name": "stdout",
     "output_type": "stream",
     "text": [
      "my_string\n"
     ]
    }
   ],
   "source": [
    "my_variable = \"my_string\"\n",
    "print(my_variable)"
   ]
  },
  {
   "cell_type": "markdown",
   "id": "531f3ecb-8778-4760-849c-55a752e43205",
   "metadata": {},
   "source": [
    "Q4. Is it possible for us to declare “_” as a variable? If so, then write an example of it."
   ]
  },
  {
   "cell_type": "markdown",
   "id": "eac7438d-823a-43cf-a302-f2df4e459688",
   "metadata": {},
   "source": [
    "Ans:- Yes, it's possible to declare a variable with an underscore (_) as its name in Python. In fact, using an underscore as a variable name has a specific meaning in Python.\n",
    "\n",
    "Here's an example of how to declare a variable with an underscore as its name in Python:"
   ]
  },
  {
   "cell_type": "code",
   "execution_count": 3,
   "id": "2ba4e44c-765c-4547-a061-6accd70d1fac",
   "metadata": {},
   "outputs": [
    {
     "name": "stdout",
     "output_type": "stream",
     "text": [
      "5\n"
     ]
    }
   ],
   "source": [
    "_ = 5\n",
    "print(_)"
   ]
  },
  {
   "cell_type": "markdown",
   "id": "d17d8936-e662-46ae-857c-8305a9bd21f5",
   "metadata": {},
   "source": [
    "Q5. Using an example, explain how the variables in python are dynamic in nature."
   ]
  },
  {
   "cell_type": "markdown",
   "id": "745dde02-6e80-4694-9134-589974a1ad08",
   "metadata": {},
   "source": [
    "Ans:- In Python, variables are dynamic in nature, which means that the data type of a variable can change during runtime. Let's take an example to understand this concept:"
   ]
  },
  {
   "cell_type": "code",
   "execution_count": 5,
   "id": "0dc09f30-beed-42d5-a3fb-8b9cb1d4ccfa",
   "metadata": {},
   "outputs": [
    {
     "name": "stdout",
     "output_type": "stream",
     "text": [
      "<class 'int'>\n",
      "<class 'str'>\n"
     ]
    }
   ],
   "source": [
    "a = 5\n",
    "print(type(a))\n",
    "\n",
    "a = \"Sani\"\n",
    "print(type(a))"
   ]
  }
 ],
 "metadata": {
  "kernelspec": {
   "display_name": "Python 3 (ipykernel)",
   "language": "python",
   "name": "python3"
  },
  "language_info": {
   "codemirror_mode": {
    "name": "ipython",
    "version": 3
   },
   "file_extension": ".py",
   "mimetype": "text/x-python",
   "name": "python",
   "nbconvert_exporter": "python",
   "pygments_lexer": "ipython3",
   "version": "3.10.8"
  }
 },
 "nbformat": 4,
 "nbformat_minor": 5
}
